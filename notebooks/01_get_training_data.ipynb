{
 "cells": [
  {
   "cell_type": "markdown",
   "id": "3623be72-b8b5-4321-af0e-68da96880973",
   "metadata": {},
   "source": [
    "# Get Training Data\n",
    "\n",
    "This notebook does two things\n",
    "1. Creates a `.csv` file called `'smash_vods.csv'` that contains YouTube video IDs (among other things) for a ton of historical smash tournaments. These will be the source of the images we want to pull from. The images are from [https://vods.co/melee](https://vods.co/melee), which is literally the best thing ever. To whomever maintains it, thank you and I'm sorry for scraping your fine work. Please let me support you, I'd love repay you.\n",
    "2. Using the `'smash_vods.csv'` file from the prior step, download 10k-ish random images from those vods. These image will be used as the training data. The \"ish\" is because we don't actually account for videos that are delisted or set to private. So we still get a lot of images in the ballpark  range of 10k but it's not perfect. The images are just saved in this directory in a directory called `'/images/'`"
   ]
  },
  {
   "cell_type": "code",
   "execution_count": 4,
   "id": "96275b34-5526-44dc-9d87-9d82f99a6f68",
   "metadata": {},
   "outputs": [
    {
     "ename": "ModuleNotFoundError",
     "evalue": "No module named 'melee_analytics_platform'",
     "output_type": "error",
     "traceback": [
      "\u001b[1;31m---------------------------------------------------------------------------\u001b[0m",
      "\u001b[1;31mModuleNotFoundError\u001b[0m                       Traceback (most recent call last)",
      "Cell \u001b[1;32mIn[4], line 1\u001b[0m\n\u001b[1;32m----> 1\u001b[0m \u001b[38;5;28;01mfrom\u001b[39;00m \u001b[38;5;21;01mmelee_analytics_platform\u001b[39;00m\u001b[38;5;21;01m.\u001b[39;00m\u001b[38;5;21;01mget_train_data\u001b[39;00m \u001b[38;5;28;01mimport\u001b[39;00m smash_n_grab, pull_smash_images\n",
      "\u001b[1;31mModuleNotFoundError\u001b[0m: No module named 'melee_analytics_platform'"
     ]
    }
   ],
   "source": [
    "from melee_analytics_platform.get_train_data import smash_n_grab, pull_smash_images"
   ]
  },
  {
   "cell_type": "code",
   "execution_count": null,
   "id": "00a4b7dc-905a-4675-a714-a087f208a21b",
   "metadata": {},
   "outputs": [],
   "source": [
    "# get our nice little dataframe of historical smash vods\n",
    "vod_df = smash_n_grab()\n",
    "vod_df.to_csv('smash_vods.csv')"
   ]
  },
  {
   "cell_type": "code",
   "execution_count": null,
   "id": "9dc50040-847d-48cd-8d4d-1461be29d6a6",
   "metadata": {},
   "outputs": [],
   "source": [
    "# now get the images from those vods\n",
    "pull_smash_images(num_images = 10000, min_date = '20120101')"
   ]
  }
 ],
 "metadata": {
  "kernelspec": {
   "display_name": "Python 3 (ipykernel)",
   "language": "python",
   "name": "python3"
  },
  "language_info": {
   "codemirror_mode": {
    "name": "ipython",
    "version": 3
   },
   "file_extension": ".py",
   "mimetype": "text/x-python",
   "name": "python",
   "nbconvert_exporter": "python",
   "pygments_lexer": "ipython3",
   "version": "3.9.13"
  }
 },
 "nbformat": 4,
 "nbformat_minor": 5
}
