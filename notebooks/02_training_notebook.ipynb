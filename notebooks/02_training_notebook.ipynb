{
 "cells": [
  {
   "cell_type": "markdown",
   "id": "b90c2784-8370-44e1-9b44-fb49dbc537f6",
   "metadata": {},
   "source": [
    "# Training Notebook\n",
    "Docs are on the way. A much cooler version of the training pipeline [here](https://debuggercafe.com/a-simple-pipeline-to-train-pytorch-faster-rcnn-object-detection-model/)"
   ]
  },
  {
   "cell_type": "code",
   "execution_count": 2,
   "id": "97ca8b1e-b191-451d-b971-9e577940aa86",
   "metadata": {},
   "outputs": [
    {
     "name": "stderr",
     "output_type": "stream",
     "text": [
      "C:\\Users\\brian\\AppData\\Local\\Programs\\Python\\Python39\\lib\\site-packages\\tqdm\\auto.py:21: TqdmWarning: IProgress not found. Please update jupyter and ipywidgets. See https://ipywidgets.readthedocs.io/en/stable/user_install.html\n",
      "  from .autonotebook import tqdm as notebook_tqdm\n"
     ]
    }
   ],
   "source": [
    "from train import train_n_test"
   ]
  },
  {
   "cell_type": "code",
   "execution_count": 4,
   "id": "889c3979-2ff7-4cb0-ac8d-ff2373bff9bf",
   "metadata": {},
   "outputs": [],
   "source": [
    "### PARAMS ###\n",
    "project_name = 'melee_tracker'\n",
    "batch_size = 2\n",
    "resize_width = 512\n",
    "resize_height = 288\n",
    "epochs = 10\n",
    "num_workers = 4\n",
    "show_image = False\n",
    "shuffle = True\n",
    "train_percent = .95\n",
    "overall_sample = 1\n",
    "min_labels = 50\n",
    "balance_classes = False\n",
    "detection_threshold = .9"
   ]
  },
  {
   "cell_type": "code",
   "execution_count": 5,
   "id": "82b8563f-25fb-4e3b-9907-9924e0240226",
   "metadata": {},
   "outputs": [
    {
     "name": "stdout",
     "output_type": "stream",
     "text": [
      "Starting model in directory 20240105_184207\n",
      "\n",
      "Only using classes {'Stock', 'Fox', 'Ice Climbers', 'Captain Falcon', 'Clock', 'Samus', 'Falco', 'Peach', 'Jigglypuff', 'Zelda', 'Damage', 'Marth'} with min_labels = 50\n",
      "Went from 1296 images to 731 after min_label filtered xml dict\n",
      "Here's your percent difference between your train and test class distribution:\n",
      "             class      0\n",
      "0            Zelda  1.682\n",
      "1              Fox  1.529\n",
      "2            Falco  1.474\n",
      "3       Jigglypuff  1.471\n",
      "4            Peach  0.714\n",
      "5   Captain Falcon  0.521\n",
      "6     Ice Climbers  0.496\n",
      "7           Damage  0.445\n",
      "8            Marth  0.400\n",
      "9            Stock  0.138\n",
      "10           Samus  0.074\n",
      "11           Clock  0.036\n",
      "\n",
      "Number of training samples: 694\n",
      "\n",
      "EPOCH 1 of 10\n"
     ]
    },
    {
     "name": "stderr",
     "output_type": "stream",
     "text": [
      "Loss: 0.7218: 100%|██████████████████████████████████████████████████████████████████████████████████████████████████████████████████████| 347/347 [03:10<00:00,  1.82it/s]\n"
     ]
    },
    {
     "name": "stdout",
     "output_type": "stream",
     "text": [
      "Epoch #1 train loss: 0.909\n",
      "Took 3.177 minutes for epoch 1\n",
      "\n",
      "EPOCH 2 of 10\n"
     ]
    },
    {
     "name": "stderr",
     "output_type": "stream",
     "text": [
      "Loss: 0.4231: 100%|██████████████████████████████████████████████████████████████████████████████████████████████████████████████████████| 347/347 [02:32<00:00,  2.27it/s]\n"
     ]
    },
    {
     "name": "stdout",
     "output_type": "stream",
     "text": [
      "Epoch #2 train loss: 0.613\n",
      "Took 2.546 minutes for epoch 2\n",
      "\n",
      "EPOCH 3 of 10\n"
     ]
    },
    {
     "name": "stderr",
     "output_type": "stream",
     "text": [
      "Loss: 0.7675: 100%|██████████████████████████████████████████████████████████████████████████████████████████████████████████████████████| 347/347 [02:31<00:00,  2.28it/s]\n"
     ]
    },
    {
     "name": "stdout",
     "output_type": "stream",
     "text": [
      "Epoch #3 train loss: 0.538\n",
      "Took 2.532 minutes for epoch 3\n",
      "\n",
      "EPOCH 4 of 10\n"
     ]
    },
    {
     "name": "stderr",
     "output_type": "stream",
     "text": [
      "Loss: 0.5174: 100%|██████████████████████████████████████████████████████████████████████████████████████████████████████████████████████| 347/347 [02:32<00:00,  2.28it/s]\n"
     ]
    },
    {
     "name": "stdout",
     "output_type": "stream",
     "text": [
      "Epoch #4 train loss: 0.505\n",
      "Took 2.538 minutes for epoch 4\n",
      "\n",
      "EPOCH 5 of 10\n"
     ]
    },
    {
     "name": "stderr",
     "output_type": "stream",
     "text": [
      "Loss: 0.3716: 100%|██████████████████████████████████████████████████████████████████████████████████████████████████████████████████████| 347/347 [02:31<00:00,  2.29it/s]\n"
     ]
    },
    {
     "name": "stdout",
     "output_type": "stream",
     "text": [
      "Epoch #5 train loss: 0.477\n",
      "Took 2.525 minutes for epoch 5\n",
      "\n",
      "EPOCH 6 of 10\n"
     ]
    },
    {
     "name": "stderr",
     "output_type": "stream",
     "text": [
      "Loss: 0.4116: 100%|██████████████████████████████████████████████████████████████████████████████████████████████████████████████████████| 347/347 [02:31<00:00,  2.29it/s]\n"
     ]
    },
    {
     "name": "stdout",
     "output_type": "stream",
     "text": [
      "Epoch #6 train loss: 0.455\n",
      "Took 2.527 minutes for epoch 6\n",
      "\n",
      "EPOCH 7 of 10\n"
     ]
    },
    {
     "name": "stderr",
     "output_type": "stream",
     "text": [
      "Loss: 0.3964: 100%|██████████████████████████████████████████████████████████████████████████████████████████████████████████████████████| 347/347 [02:37<00:00,  2.21it/s]\n"
     ]
    },
    {
     "name": "stdout",
     "output_type": "stream",
     "text": [
      "Epoch #7 train loss: 0.432\n",
      "Took 2.618 minutes for epoch 7\n",
      "\n",
      "EPOCH 8 of 10\n"
     ]
    },
    {
     "name": "stderr",
     "output_type": "stream",
     "text": [
      "Loss: 0.3301: 100%|██████████████████████████████████████████████████████████████████████████████████████████████████████████████████████| 347/347 [02:30<00:00,  2.31it/s]\n"
     ]
    },
    {
     "name": "stdout",
     "output_type": "stream",
     "text": [
      "Epoch #8 train loss: 0.419\n",
      "Took 2.508 minutes for epoch 8\n",
      "\n",
      "EPOCH 9 of 10\n"
     ]
    },
    {
     "name": "stderr",
     "output_type": "stream",
     "text": [
      "Loss: 0.3419: 100%|██████████████████████████████████████████████████████████████████████████████████████████████████████████████████████| 347/347 [02:33<00:00,  2.26it/s]\n"
     ]
    },
    {
     "name": "stdout",
     "output_type": "stream",
     "text": [
      "Epoch #9 train loss: 0.405\n",
      "Took 2.555 minutes for epoch 9\n",
      "\n",
      "EPOCH 10 of 10\n"
     ]
    },
    {
     "name": "stderr",
     "output_type": "stream",
     "text": [
      "Loss: 0.2842: 100%|██████████████████████████████████████████████████████████████████████████████████████████████████████████████████████| 347/347 [02:33<00:00,  2.26it/s]\n"
     ]
    },
    {
     "name": "stdout",
     "output_type": "stream",
     "text": [
      "Epoch #10 train loss: 0.395\n",
      "Took 2.559 minutes for epoch 10\n",
      "\n",
      "Running Predictions on 37 Test Images...\n",
      "TEST PREDICTIONS COMPLETE\n"
     ]
    },
    {
     "name": "stderr",
     "output_type": "stream",
     "text": [
      "Loss: 0.3085: 100%|████████████████████████████████████████████████████████████████████████████████████████████████████████████████████████| 19/19 [00:06<00:00,  2.81it/s]\n"
     ]
    },
    {
     "name": "stdout",
     "output_type": "stream",
     "text": [
      "Validation loss: 0.384\n"
     ]
    }
   ],
   "source": [
    "train_n_test(project_name = project_name,\n",
    "             batch_size = batch_size,\n",
    "             resize_width = resize_width,\n",
    "             resize_height = resize_height,\n",
    "             epochs = epochs,\n",
    "             num_workers = num_workers,\n",
    "             show_image = show_image,\n",
    "             shuffle = shuffle,\n",
    "             train_percent = train_percent,\n",
    "             overall_sample = overall_sample,\n",
    "             min_labels = min_labels,\n",
    "             balance_classes = balance_classes,\n",
    "             detection_threshold = detection_threshold)"
   ]
  },
  {
   "cell_type": "code",
   "execution_count": null,
   "id": "d00a1308-d69d-49c9-9ffd-9058b058a4a1",
   "metadata": {},
   "outputs": [],
   "source": []
  }
 ],
 "metadata": {
  "kernelspec": {
   "display_name": "Python 3 (ipykernel)",
   "language": "python",
   "name": "python3"
  },
  "language_info": {
   "codemirror_mode": {
    "name": "ipython",
    "version": 3
   },
   "file_extension": ".py",
   "mimetype": "text/x-python",
   "name": "python",
   "nbconvert_exporter": "python",
   "pygments_lexer": "ipython3",
   "version": "3.9.13"
  }
 },
 "nbformat": 4,
 "nbformat_minor": 5
}
