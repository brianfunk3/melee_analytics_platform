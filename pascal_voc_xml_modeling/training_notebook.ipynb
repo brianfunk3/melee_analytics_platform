{
 "cells": [
  {
   "cell_type": "markdown",
   "id": "b90c2784-8370-44e1-9b44-fb49dbc537f6",
   "metadata": {},
   "source": [
    "# Training Notebook\n",
    "Docs are on the way. A much cooler version of the training pipeline [here](https://debuggercafe.com/a-simple-pipeline-to-train-pytorch-faster-rcnn-object-detection-model/)"
   ]
  },
  {
   "cell_type": "code",
   "execution_count": 1,
   "id": "97ca8b1e-b191-451d-b971-9e577940aa86",
   "metadata": {},
   "outputs": [
    {
     "name": "stderr",
     "output_type": "stream",
     "text": [
      "C:\\Users\\brian\\AppData\\Local\\Programs\\Python\\Python39\\lib\\site-packages\\tqdm\\auto.py:21: TqdmWarning: IProgress not found. Please update jupyter and ipywidgets. See https://ipywidgets.readthedocs.io/en/stable/user_install.html\n",
      "  from .autonotebook import tqdm as notebook_tqdm\n"
     ]
    }
   ],
   "source": [
    "from train import train_n_test"
   ]
  },
  {
   "cell_type": "code",
   "execution_count": 2,
   "id": "889c3979-2ff7-4cb0-ac8d-ff2373bff9bf",
   "metadata": {},
   "outputs": [],
   "source": [
    "### PARAMS ###\n",
    "project_name = 'melee_tracker'\n",
    "batch_size = 2\n",
    "resize_width = 512\n",
    "resize_height = 288\n",
    "epochs = 3\n",
    "num_workers = 4\n",
    "show_image = False\n",
    "shuffle = True\n",
    "train_percent = .8\n",
    "overall_sample = 1\n",
    "min_labels = 50\n",
    "balance_classes = True\n",
    "detection_threshold = .95"
   ]
  },
  {
   "cell_type": "code",
   "execution_count": 3,
   "id": "82b8563f-25fb-4e3b-9907-9924e0240226",
   "metadata": {},
   "outputs": [
    {
     "name": "stdout",
     "output_type": "stream",
     "text": [
      "Starting model in directory 20231230_141623\n",
      "\n",
      "Only using classes {'Falco', 'Captain Falcon', 'Stock', 'Jigglypuff', 'Fox', 'Peach', 'Marth', 'Clock', 'Damage', 'Ice Climbers', 'Zelda'} with min_labels = 50\n",
      "Went from 933 images to 404 after min_label filtered xml dict\n",
      "Balancing Marth: need to remove 26 labels\n",
      "Balancing Clock: need to remove 350 labels\n",
      "Balancing Stock: need to remove 756 labels\n",
      "Balancing Damage: need to remove 736 labels\n",
      "Balancing Zelda: need to remove 35 labels\n",
      "Balancing Falco: need to remove 17 labels\n",
      "Balancing Captain Falcon: need to remove 19 labels\n",
      "Balancing Fox: need to remove 179 labels\n",
      "Balancing Jigglypuff: need to remove 2 labels\n",
      "After trying to balance classes, heres the new class counter:\n",
      "{'Marth': 80, 'Clock': 404, 'Stock': 810, 'Damage': 790, 'Zelda': 89, 'Falco': 71, 'Peach': 48, 'Ice Climbers': 27, 'Captain Falcon': 73, 'Fox': 233, 'Jigglypuff': 56}\n",
      "Here's your percent difference between your train and test class distribution:\n",
      "             class      0\n",
      "0     Ice Climbers  1.042\n",
      "1            Marth  0.976\n",
      "2            Falco  0.829\n",
      "3            Zelda  0.706\n",
      "4       Jigglypuff  0.609\n",
      "5              Fox  0.295\n",
      "6            Clock  0.225\n",
      "7            Peach  0.171\n",
      "8            Stock  0.082\n",
      "9           Damage  0.069\n",
      "10  Captain Falcon  0.043\n",
      "\n",
      "Number of training samples: 323\n",
      "\n",
      "EPOCH 1 of 3\n"
     ]
    },
    {
     "name": "stderr",
     "output_type": "stream",
     "text": [
      "Loss: 0.6921: 100%|██████████████████████████████████████████████████████████████████| 162/162 [01:39<00:00,  1.63it/s]\n"
     ]
    },
    {
     "name": "stdout",
     "output_type": "stream",
     "text": [
      "Epoch #1 train loss: 1.110\n",
      "Took 1.661 minutes for epoch 1\n",
      "\n",
      "EPOCH 2 of 3\n"
     ]
    },
    {
     "name": "stderr",
     "output_type": "stream",
     "text": [
      "Loss: 0.2714: 100%|██████████████████████████████████████████████████████████████████| 162/162 [01:42<00:00,  1.57it/s]\n"
     ]
    },
    {
     "name": "stdout",
     "output_type": "stream",
     "text": [
      "Epoch #2 train loss: 0.706\n",
      "Took 1.715 minutes for epoch 2\n",
      "\n",
      "EPOCH 3 of 3\n"
     ]
    },
    {
     "name": "stderr",
     "output_type": "stream",
     "text": [
      "Loss: 0.2150: 100%|██████████████████████████████████████████████████████████████████| 162/162 [01:42<00:00,  1.58it/s]\n"
     ]
    },
    {
     "name": "stdout",
     "output_type": "stream",
     "text": [
      "Epoch #3 train loss: 0.620\n",
      "Took 1.710 minutes for epoch 3\n",
      "\n",
      "Running Predictions on 81 Test Images...\n",
      "TEST PREDICTIONS COMPLETE\n"
     ]
    },
    {
     "name": "stderr",
     "output_type": "stream",
     "text": [
      "Loss: 0.5598: 100%|████████████████████████████████████████████████████████████████████| 41/41 [00:11<00:00,  3.47it/s]\n"
     ]
    },
    {
     "name": "stdout",
     "output_type": "stream",
     "text": [
      "Validation loss: 0.619\n"
     ]
    }
   ],
   "source": [
    "train_n_test(project_name = project_name,\n",
    "             batch_size = batch_size,\n",
    "             resize_width = resize_width,\n",
    "             resize_height = resize_height,\n",
    "             epochs = epochs,\n",
    "             num_workers = num_workers,\n",
    "             show_image = show_image,\n",
    "             shuffle = shuffle,\n",
    "             train_percent = train_percent,\n",
    "             overall_sample = overall_sample,\n",
    "             min_labels = min_labels,\n",
    "             balance_classes = balance_classes,\n",
    "             detection_threshold = detection_threshold)"
   ]
  }
 ],
 "metadata": {
  "kernelspec": {
   "display_name": "Python 3 (ipykernel)",
   "language": "python",
   "name": "python3"
  },
  "language_info": {
   "codemirror_mode": {
    "name": "ipython",
    "version": 3
   },
   "file_extension": ".py",
   "mimetype": "text/x-python",
   "name": "python",
   "nbconvert_exporter": "python",
   "pygments_lexer": "ipython3",
   "version": "3.9.13"
  }
 },
 "nbformat": 4,
 "nbformat_minor": 5
}
