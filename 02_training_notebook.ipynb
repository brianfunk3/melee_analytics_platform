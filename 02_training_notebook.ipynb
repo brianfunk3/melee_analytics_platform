{
 "cells": [
  {
   "cell_type": "markdown",
   "id": "b90c2784-8370-44e1-9b44-fb49dbc537f6",
   "metadata": {},
   "source": [
    "# Training Notebook\n",
    "Docs are on the way. A much cooler version of the training pipeline [here](https://debuggercafe.com/a-simple-pipeline-to-train-pytorch-faster-rcnn-object-detection-model/)"
   ]
  },
  {
   "cell_type": "code",
   "execution_count": 1,
   "id": "97ca8b1e-b191-451d-b971-9e577940aa86",
   "metadata": {},
   "outputs": [
    {
     "name": "stderr",
     "output_type": "stream",
     "text": [
      "c:\\Users\\brian\\AppData\\Local\\Programs\\Python\\Python39\\lib\\site-packages\\tqdm\\auto.py:21: TqdmWarning: IProgress not found. Please update jupyter and ipywidgets. See https://ipywidgets.readthedocs.io/en/stable/user_install.html\n",
      "  from .autonotebook import tqdm as notebook_tqdm\n"
     ]
    }
   ],
   "source": [
    "from melee_analytics_platform import train_n_test"
   ]
  },
  {
   "cell_type": "code",
   "execution_count": 2,
   "id": "889c3979-2ff7-4cb0-ac8d-ff2373bff9bf",
   "metadata": {},
   "outputs": [],
   "source": [
    "### PARAMS ###\n",
    "project_name = 'melee_tracker'\n",
    "batch_size = 2\n",
    "resize_width = 512\n",
    "resize_height = 288\n",
    "epochs = 2\n",
    "num_workers = 4\n",
    "shuffle = True\n",
    "train_percent = .95\n",
    "overall_sample = .5\n",
    "min_labels = 50\n",
    "balance_classes = False\n",
    "detection_threshold = .9"
   ]
  },
  {
   "cell_type": "code",
   "execution_count": 7,
   "id": "82b8563f-25fb-4e3b-9907-9924e0240226",
   "metadata": {},
   "outputs": [
    {
     "name": "stdout",
     "output_type": "stream",
     "text": [
      "Starting model in directory 20240111_211953\n",
      "\n",
      "Only using classes {'Jigglypuff', 'Clock', 'Samus', 'Fox', 'Stock', 'Ice Climbers', 'Captain Falcon', 'Falco', 'Damage', 'Marth', 'Zelda', 'Peach'} with min_labels = 50\n",
      "Went from 1296 images to 731 after min_label filtered xml dict\n",
      "Here's your percent difference between your train and test class distribution:\n",
      "             class      0\n",
      "0     Ice Climbers  4.649\n",
      "1            Zelda  2.617\n",
      "2              Fox  2.505\n",
      "3            Falco  1.240\n",
      "4   Captain Falcon  1.153\n",
      "5            Stock  1.127\n",
      "6            Marth  0.731\n",
      "7            Peach  0.702\n",
      "8       Jigglypuff  0.545\n",
      "9            Clock  0.477\n",
      "10          Damage  0.132\n",
      "11           Samus  0.099\n",
      "\n",
      "Number of training samples: 348\n",
      "\n",
      "EPOCH 1 of 2\n"
     ]
    },
    {
     "name": "stderr",
     "output_type": "stream",
     "text": [
      "Loss: 0.9281: 100%|██████████| 174/174 [01:38<00:00,  1.76it/s]\n"
     ]
    },
    {
     "name": "stdout",
     "output_type": "stream",
     "text": [
      "Epoch #1 train loss: 1.078\n",
      "Took 1.646 minutes for epoch 1\n",
      "\n",
      "EPOCH 2 of 2\n"
     ]
    },
    {
     "name": "stderr",
     "output_type": "stream",
     "text": [
      "Loss: 0.7648: 100%|██████████| 174/174 [01:35<00:00,  1.83it/s]\n"
     ]
    },
    {
     "name": "stdout",
     "output_type": "stream",
     "text": [
      "Epoch #2 train loss: 0.733\n",
      "Took 1.588 minutes for epoch 2\n",
      "\n",
      "Running Predictions on 18 Test Images...\n",
      "TEST PREDICTIONS COMPLETE\n",
      "\n",
      "EPOCH 1 of 1\n"
     ]
    },
    {
     "name": "stderr",
     "output_type": "stream",
     "text": [
      "Loss: 0.5724: 100%|██████████| 174/174 [01:14<00:00,  2.32it/s]\n"
     ]
    },
    {
     "name": "stdout",
     "output_type": "stream",
     "text": [
      "Epoch #1 test loss: 0.580\n",
      "Took 1.248 minutes for epoch 1\n"
     ]
    }
   ],
   "source": [
    "train_n_test(project_name = project_name,\n",
    "             batch_size = batch_size,\n",
    "             resize_width = resize_width,\n",
    "             resize_height = resize_height,\n",
    "             epochs = epochs,\n",
    "             num_workers = num_workers,\n",
    "             shuffle = shuffle,\n",
    "             train_percent = train_percent,\n",
    "             overall_sample = overall_sample,\n",
    "             min_labels = min_labels,\n",
    "             balance_classes = balance_classes,\n",
    "             detection_threshold = detection_threshold)"
   ]
  },
  {
   "cell_type": "code",
   "execution_count": null,
   "id": "d00a1308-d69d-49c9-9ffd-9058b058a4a1",
   "metadata": {},
   "outputs": [],
   "source": []
  }
 ],
 "metadata": {
  "kernelspec": {
   "display_name": "Python 3 (ipykernel)",
   "language": "python",
   "name": "python3"
  },
  "language_info": {
   "codemirror_mode": {
    "name": "ipython",
    "version": 3
   },
   "file_extension": ".py",
   "mimetype": "text/x-python",
   "name": "python",
   "nbconvert_exporter": "python",
   "pygments_lexer": "ipython3",
   "version": "3.9.13"
  }
 },
 "nbformat": 4,
 "nbformat_minor": 5
}
